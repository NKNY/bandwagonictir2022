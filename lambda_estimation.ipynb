{
 "cells": [
  {
   "cell_type": "code",
   "execution_count": 70,
   "id": "57aa48ed-f6aa-4972-a3ab-9fce749bad19",
   "metadata": {},
   "outputs": [],
   "source": [
    "import numpy as np\n",
    "\n",
    "from scipy.optimize import fmin_tnc"
   ]
  },
  {
   "cell_type": "code",
   "execution_count": 71,
   "id": "e09a8041-c08e-49a3-acb0-0ad335f0aec2",
   "metadata": {},
   "outputs": [],
   "source": [
    "np.random.seed(123)"
   ]
  },
  {
   "cell_type": "code",
   "execution_count": 72,
   "id": "193aa5c6-d334-46ec-8411-ae0d9ca7be88",
   "metadata": {},
   "outputs": [],
   "source": [
    "N = 20  # Num runs\n",
    "n = 100  # Num ratings per run\n",
    "p = 0.4  # True relevance for p_k s.t. k=1\n",
    "\n",
    "# True lambda distribution parameters\n",
    "b = 0.95\n",
    "a = 0.1"
   ]
  },
  {
   "cell_type": "code",
   "execution_count": 73,
   "id": "efbfa9d0-f57d-4197-9e88-dd346a5c4932",
   "metadata": {},
   "outputs": [],
   "source": [
    "# True lambda distribution: lambda_i = a + (1-a)*b**(i-1)\n",
    "lambdas = a + (1 - a)*b**np.arange(n)"
   ]
  },
  {
   "cell_type": "code",
   "execution_count": 74,
   "id": "0bde3296-55b4-4ad9-b2fa-54c30360a652",
   "metadata": {},
   "outputs": [],
   "source": [
    "# Generate the data by iterating over Equation 4\n",
    "R = np.zeros((N,n))  # Keep track of individual ratings\n",
    "M = np.zeros((N,n))  # Keep track of sample mean\n",
    "ri = np.random.rand(N) < p  # First rating sampled from Bernoulli(p)\n",
    "R[:,0] = ri\n",
    "M[:,0] = ri\n",
    "m = ri\n",
    "\n",
    "# Iterate over timesteps (all runs in parallel)\n",
    "for i in range(1,n):\n",
    "    pri = lambdas[i]*p + (1 - lambdas[i])*m  # Calculate P(r_n=1|\\bar{p}_{n-1})\n",
    "    ri = np.random.rand(N) < pri  # Sample new rating\n",
    "    m = (m*i + ri)/(i + 1)  # Update sample mean\n",
    "    R[:,i] = ri  # Record the new rating\n",
    "    M[:,i] = m  # Record the new sample mean"
   ]
  },
  {
   "cell_type": "code",
   "execution_count": 95,
   "id": "d2e3b868-2656-49e3-93e4-1bf0bf69177e",
   "metadata": {},
   "outputs": [],
   "source": [
    "def f_l(x0, r, m_shifted, p):\n",
    "    \"\"\"Calculate the negative loglikehood of the data and its gradient wrt. a and b for a bandwagon process in \n",
    "    a form minimizable by Truncated Newton.\n",
    "    \n",
    "    Args:\n",
    "        x0 (tuple): Initial guess for a and b.\n",
    "        r (np.array): Observed ratings at each timestep w/ shape (N, n).\n",
    "        m_shifted (np.array): Observed sample means before a given timestep w/ shape (N, n).\n",
    "        p (float): Estimated relevance for k=1.\n",
    "    Returns:\n",
    "        L (float): Negative log likelihood (loss).\n",
    "        gradient (tuple): Partial derivatives of L wrt. a and b.\n",
    "    \"\"\"\n",
    "    a, b = [np.clip(np.array([x]), 1e-8, 1-1e-8)[:,None] for x in x0]  # a and b bounded away from 0 and 1.\n",
    "    l = a + (1 - a)*b**np.arange(n)  # Current estimate of lambdas\n",
    "    denom = l*p + (1 - l)*m_shifted\n",
    "    L = -np.sum(r*np.log(denom) + (1 - r)*np.log(1 - denom))  # Negative loglikelihood\n",
    "    dL_da = -np.sum((p - m_shifted)*(1 - b**np.arange(n))*(r/denom - (1 - r)/(1 - denom)))\n",
    "    dL_db = -np.sum((p - m_shifted)*(1 - a)*(b**np.arange(-1, n - 1))*np.arange(n)*(r/denom - (1 - r)/(1 - denom)))\n",
    "    gradient = (dL_da, dL_db)\n",
    "    \n",
    "    return L, gradient"
   ]
  },
  {
   "cell_type": "code",
   "execution_count": 100,
   "id": "c978b54c-f8d4-4924-bc8a-0f30ab3ae8d8",
   "metadata": {},
   "outputs": [],
   "source": [
    "x0 = (0.5, 0.5)  # Initial guess for a and b\n",
    "m_shifted = np.concatenate((np.ones((N,1)), M[:,:-1]), axis=-1)  # Sample mean as it was prior to the rating at the same index\n",
    "estimated_relevance = R.mean()  # Estimated relevance (\\hat{p}^k in Section 5.2)\n",
    "bounds = [(1e-8,1-1e-8)]*2  # Assume a and b bounded away from 0 and 1."
   ]
  },
  {
   "cell_type": "code",
   "execution_count": 99,
   "id": "aa0938ec-d923-4f1d-91d7-acc5975e955b",
   "metadata": {},
   "outputs": [
    {
     "name": "stdout",
     "output_type": "stream",
     "text": [
      "0.3305871826186462 0.9185348612606968\n"
     ]
    },
    {
     "name": "stderr",
     "output_type": "stream",
     "text": [
      "  NIT   NF   F                       GTG\n",
      "    0    1  1.304781967901043E+03   3.43543368E+01\n",
      "    1    3  1.304692920146605E+03   5.41365045E+00\n",
      "    2   10  1.303287280137861E+03   1.22370858E+02\n",
      "    3   14  1.303275671965722E+03   1.45579809E+02\n",
      "    4   16  1.302774767550221E+03   7.62630166E-01\n",
      "    5   18  1.302771222212182E+03   6.38465500E-01\n",
      "    6   20  1.302770787933406E+03   1.78328473E-04\n",
      "tnc: fscale = 74.8843\n",
      "    7   22  1.302770787797092E+03   3.96516707E-05\n",
      "    8   24  1.302770787615172E+03   7.05931524E-11\n",
      "tnc: fscale = 119020\n",
      "tnc: |fn-fn-1] = 0 -> convergence\n",
      "    9   26  1.302770787615172E+03   3.94775600E-10\n",
      "tnc: Converged (|f_n-f_(n-1)| ~= 0)\n"
     ]
    }
   ],
   "source": [
    "a_hat, b_hat = fmin_tnc(f_l2, x0, args=(R, m_shifted, estimated_relevance), bounds=bounds, maxfun=10000)[0]\n",
    "print(a_hat, b_hat)"
   ]
  },
  {
   "cell_type": "code",
   "execution_count": null,
   "id": "cb75f763-8d2a-4c42-956a-3af769d6314d",
   "metadata": {},
   "outputs": [],
   "source": []
  }
 ],
 "metadata": {
  "kernelspec": {
   "display_name": "Project Bandwagon Conda 3.9",
   "language": "python",
   "name": "proj_bandwagon_conda-py3.9"
  },
  "language_info": {
   "codemirror_mode": {
    "name": "ipython",
    "version": 3
   },
   "file_extension": ".py",
   "mimetype": "text/x-python",
   "name": "python",
   "nbconvert_exporter": "python",
   "pygments_lexer": "ipython3",
   "version": "3.9.7"
  }
 },
 "nbformat": 4,
 "nbformat_minor": 5
}
