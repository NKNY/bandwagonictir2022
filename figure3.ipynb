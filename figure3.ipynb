{
 "cells": [
  {
   "cell_type": "code",
   "execution_count": null,
   "id": "744ca975-491e-493c-bcf3-bca27602e227",
   "metadata": {},
   "outputs": [],
   "source": [
    "import os\n",
    "\n",
    "import matplotlib.lines as mlines\n",
    "import matplotlib.pyplot as plt\n",
    "import numpy as np\n",
    "\n",
    "from tqdm import tqdm"
   ]
  },
  {
   "cell_type": "code",
   "execution_count": null,
   "id": "a0643a16-e224-4783-a2e0-64b326052870",
   "metadata": {},
   "outputs": [],
   "source": [
    "np.random.seed(123)"
   ]
  },
  {
   "cell_type": "code",
   "execution_count": null,
   "id": "cdb50589-029d-4b9d-bc09-b9072dc6d3ea",
   "metadata": {},
   "outputs": [],
   "source": [
    "# Figure text parameters\n",
    "plt.rc('font', size=20)\n",
    "plt.rc('text', usetex=True)\n",
    "plt.rc('text.latex', preamble=r'\\usepackage{amsmath,amssymb,bm,bbm,lmodern}')"
   ]
  },
  {
   "cell_type": "code",
   "execution_count": null,
   "id": "4846a1b1-6af5-4ebd-9982-102500f14997",
   "metadata": {},
   "outputs": [],
   "source": [
    "# Figure parameters\n",
    "name_mapping = {\n",
    "    'method_1': 'No Bandwagon',\n",
    "    'method_2': 'Weak Bandwagon',\n",
    "    'method_3': 'Strong Bandwagon',\n",
    "}\n",
    "colours = {\n",
    "    'method_1': \"lime\",\n",
    "    'method_2': \"red\",\n",
    "    'method_3': \"black\",\n",
    "  }\n",
    "markers = {\n",
    "    'method_1': 'x',\n",
    "    'method_2': '^',\n",
    "    'method_3': 'v',\n",
    "  }\n",
    "styles = {\n",
    "    'method_1': '-',\n",
    "    'method_2': \"-\",\n",
    "    'method_3': '-',\n",
    "  }\n",
    "linewidths = {\n",
    "    \"method_1\": 3.5, \n",
    "    \"method_2\": 3.5, \n",
    "    \"method_3\": 3.5, \n",
    "}\n",
    "zorders = {\n",
    "    \"method_1\": 3, \n",
    "    \"method_2\": 2, \n",
    "    \"method_3\": 1, \n",
    "}\n",
    "\n",
    "num_points_plotted = 50  # Too many points leads to jitter\n",
    "alpha = 0.4  # Opacity"
   ]
  },
  {
   "cell_type": "code",
   "execution_count": null,
   "id": "92496db5-0e06-450c-a67b-fdd7135e10e7",
   "metadata": {},
   "outputs": [],
   "source": [
    "graph_name = \"bw_level_comparison\""
   ]
  },
  {
   "cell_type": "code",
   "execution_count": null,
   "id": "6b8b266b-3d3e-4396-b9c6-ffe1a307a457",
   "metadata": {},
   "outputs": [],
   "source": [
    "N = 1000  # Num runs\n",
    "n = 1000000  # Num ratings per run\n",
    "p = 0.4  # True relevance"
   ]
  },
  {
   "cell_type": "code",
   "execution_count": null,
   "id": "fd5c64c3-e1df-4d4d-b1d2-0bf54c40e908",
   "metadata": {},
   "outputs": [],
   "source": [
    "# Plotting helper variables\n",
    "x_values = np.arange(1,n+1)\n",
    "plot_idx = (np.unique(np.geomspace(1,n,num_points_plotted).astype(int))-1).tolist()"
   ]
  },
  {
   "cell_type": "code",
   "execution_count": null,
   "id": "791ee5d7-f103-4a0f-ada6-c505a094df1e",
   "metadata": {},
   "outputs": [],
   "source": [
    "# No, weak and strong bandwagon parameters: (a, b)\n",
    "bandwagons_all = [\n",
    "    (1,1), (0.6,0.9), (0.1,0.95)\n",
    "]\n",
    "lambdas_all = [threshold + (1 - threshold)*c**np.arange(n) for (threshold, c) in bandwagons_all]"
   ]
  },
  {
   "cell_type": "code",
   "execution_count": null,
   "id": "e38126f1-b1a8-4b9e-81f9-859e6a8d69e9",
   "metadata": {},
   "outputs": [],
   "source": [
    "# Generate the data by iterating over Equation 4 for each setting\n",
    "M_all = []\n",
    "for lambdas in lambdas_all:\n",
    "    R = np.zeros((N,n))  # Keep track of individual ratings\n",
    "    M = np.zeros((N,n))  # Keep track of sample mean\n",
    "    ri = np.random.rand(N) < p  # First rating sampled from Bernoulli(p)\n",
    "    R[:,0] = ri\n",
    "    M[:,0] = ri\n",
    "    m = ri\n",
    "\n",
    "    # Iterate over timesteps (all runs in parallel)\n",
    "    for i in tqdm(range(1,n)):\n",
    "        pri = lambdas[i]*p + (1 - lambdas[i])*m  # Calculate P(r_n=1|\\bar{p}_{n-1})\n",
    "        ri = np.random.rand(N) < pri  # Sample new rating\n",
    "        m = (m*i + ri)/(i + 1)  # Update sample mean\n",
    "        R[:,i] = ri  # Record the new rating\n",
    "        M[:,i] = m  # Record the new sample mean\n",
    "    M_all.append(M)"
   ]
  },
  {
   "cell_type": "code",
   "execution_count": null,
   "id": "24176a22-baff-428e-a7cb-4f16aaf91abd",
   "metadata": {},
   "outputs": [],
   "source": [
    "include_all = {\n",
    "    \"method_1\": M_all[0],\n",
    "    \"method_2\": M_all[1],\n",
    "    \"method_3\": M_all[2]\n",
    "}"
   ]
  },
  {
   "cell_type": "code",
   "execution_count": null,
   "id": "d47771b4-71d9-4821-be92-963b906fb85d",
   "metadata": {},
   "outputs": [],
   "source": [
    "# Calculate the mean and the confidence interval for plotted points only.\n",
    "data_temp = {k: v[:,plot_idx].mean(axis=0) for k, v in include_all.items()}\n",
    "ci_temp = {k:(np.percentile(v[:,plot_idx], 5, axis=0), np.percentile(v[:,plot_idx],100-5,axis=0)) for k, v in include_all.items()}\n",
    "\n",
    "# Add zero values to all other indices\n",
    "data = {k:np.zeros(n) for k in data_temp}\n",
    "ci = {k:[np.zeros(n), np.ones(n)] for k in data_temp}\n",
    "for k in data:\n",
    "    data[k][plot_idx] = data_temp[k]\n",
    "    ci[k][0][plot_idx] = ci_temp[k][0]\n",
    "    ci[k][1][plot_idx] = ci_temp[k][1]"
   ]
  },
  {
   "cell_type": "code",
   "execution_count": null,
   "id": "2127de31-77b1-4141-aeab-45423abd8fa5",
   "metadata": {},
   "outputs": [],
   "source": [
    "legend_info = {}\n",
    "for k in data:\n",
    "    legend_info[k] = {\n",
    "        'linestyle': styles[k],\n",
    "        'color': colours[k],\n",
    "        'markersize': 12,\n",
    "        'fillstyle': 'none',\n",
    "        'label': name_mapping[k],\n",
    "        'linewidth': linewidths[k],\n",
    "        'zorder': zorders[k]\n",
    "    }"
   ]
  },
  {
   "cell_type": "code",
   "execution_count": null,
   "id": "2921b9c9-6999-4fbe-8cf6-b9af5e548f49",
   "metadata": {},
   "outputs": [],
   "source": [
    "# Plot\n",
    "fig = plt.figure(figsize=(7.38/1.03, 1.25*2), linewidth=0.5)\n",
    "fig.tight_layout()\n",
    "plt.ioff()\n",
    "plt.xscale('log')\n",
    "plt.gca().yaxis.set_ticks_position('both')\n",
    "plt.gca().xaxis.set_ticks_position('both')\n",
    "plt.xlim(1, n)\n",
    "plt.xticks(10**np.arange(np.log10(n)+1))\n",
    "plt.ylim(0, 1.)\n",
    "\n",
    "for _k in data:\n",
    "    _y = data[_k]\n",
    "    _y_min, _y_max = ci[_k]\n",
    "    plt.fill_between(\n",
    "        x_values[plot_idx], _y_min[plot_idx], _y_max[plot_idx],\n",
    "        alpha=alpha,\n",
    "        color=legend_info[_k][\"color\"],\n",
    "        zorder=legend_info[_k][\"zorder\"]\n",
    "    )\n",
    "    plt.plot(x_values[plot_idx], _y_min[plot_idx], color=legend_info[k][\"color\"], alpha=0.3)\n",
    "    plt.plot(x_values[plot_idx], _y_max[plot_idx], color=legend_info[k][\"color\"], alpha=0.3)\n",
    "\n",
    "\n",
    "when = np.argmax(ci[\"method_1\"][1]<0.45)\n",
    "plt.plot([when,when], [0,1], color=tuple(x/255 for x in [115,131,76]), alpha=1)\n",
    "when = np.argmax(ci[\"method_2\"][1]<0.45)\n",
    "plt.plot([when,when],[0,1], color=tuple(x/255 for x in [180,97,94]), alpha=1) \n",
    "when = np.argmax(ci[\"method_1\"][1]<0.41)\n",
    "plt.plot([when,when], [0,1], color=tuple(x/255 for x in [115,131,76]), alpha=1, linestyle=\"-.\")\n",
    "when = np.argmax(ci[\"method_2\"][1]<0.41)\n",
    "plt.plot([when,when],[0,1], color=tuple(x/255 for x in [180,97,94]), alpha=1, linestyle=\"-.\") \n",
    "\n",
    "plt.savefig('./%s.pdf' % (graph_name), bbox_inches='tight', pad_inches=0) "
   ]
  },
  {
   "cell_type": "code",
   "execution_count": null,
   "id": "fec7a39a-3168-4ef8-af02-e69e63ed57d6",
   "metadata": {},
   "outputs": [],
   "source": [
    "figlegend = plt.figure(figsize=(0.5,0.5))\n",
    "ncol = 3\n",
    "l = figlegend.legend(handles=[mlines.Line2D([], [], **l) for l in legend_info.values()],\n",
    "               fontsize=18,\n",
    "               loc='center',\n",
    "               ncol=ncol,\n",
    "               frameon=False,\n",
    "               borderaxespad=0,\n",
    "               borderpad=0,\n",
    "               labelspacing=0.2,\n",
    "               columnspacing=1.)\n",
    "l.legendHandles[0].set_color(tuple(x/255 for x in [115,131,76]))\n",
    "l.legendHandles[1].set_color(tuple(x/255 for x in [180,97,94]))\n",
    "l.legendHandles[2].set_color(tuple(x/255 for x in [153,153,153]))\n",
    "figlegend.savefig(f'./{graph_name}_legend.pdf',\n",
    "                bbox_inches='tight')"
   ]
  }
 ],
 "metadata": {
  "kernelspec": {
   "display_name": "Project Bandwagon Conda 3.9",
   "language": "python",
   "name": "proj_bandwagon_conda-py3.9"
  },
  "language_info": {
   "codemirror_mode": {
    "name": "ipython",
    "version": 3
   },
   "file_extension": ".py",
   "mimetype": "text/x-python",
   "name": "python",
   "nbconvert_exporter": "python",
   "pygments_lexer": "ipython3",
   "version": "3.9.7"
  }
 },
 "nbformat": 4,
 "nbformat_minor": 5
}
